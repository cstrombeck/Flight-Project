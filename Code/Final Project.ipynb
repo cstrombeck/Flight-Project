{
 "cells": [
  {
   "cell_type": "markdown",
   "metadata": {},
   "source": [
    "# Final Project: Do baggage fees delay flights?"
   ]
  },
  {
   "cell_type": "markdown",
   "metadata": {},
   "source": [
    "## A. Import Data"
   ]
  },
  {
   "cell_type": "markdown",
   "metadata": {},
   "source": [
    "###1. Import 'On-Time Performance' flight data from BTS (Bureau of Transportation Statistics) for a 12-month-period. \n",
    "####Data used was for June 2014 - May 2015\n",
    "####Source: http://www.transtats.bts.gov/Fields.asp?Table_ID=236\n"
   ]
  },
  {
   "cell_type": "code",
   "execution_count": 1,
   "metadata": {
    "collapsed": false
   },
   "outputs": [],
   "source": [
    "import pandas as pd\n",
    "import time\n",
    "import numpy as np\n",
    "import math\n",
    "import matplotlib.pyplot as plt\n",
    "import plotly\n",
    "import seaborn as sns\n",
    "import statsmodels.api as sm\n",
    "import statsmodels.formula.api as smf\n",
    "from sklearn.linear_model import LinearRegression\n",
    "from scipy import stats"
   ]
  },
  {
   "cell_type": "markdown",
   "metadata": {
    "collapsed": false
   },
   "source": [
    "####Import the monthly data sets and combine them into one (data_raw)."
   ]
  },
  {
   "cell_type": "code",
   "execution_count": 2,
   "metadata": {
    "collapsed": false
   },
   "outputs": [
    {
     "name": "stderr",
     "output_type": "stream",
     "text": [
      "//anaconda/lib/python2.7/site-packages/pandas/io/parsers.py:1170: DtypeWarning:\n",
      "\n",
      "Columns (48,77,84) have mixed types. Specify dtype option on import or set low_memory=False.\n",
      "\n",
      "//anaconda/lib/python2.7/site-packages/pandas/io/parsers.py:1170: DtypeWarning:\n",
      "\n",
      "Columns (48,76,77,84) have mixed types. Specify dtype option on import or set low_memory=False.\n",
      "\n",
      "//anaconda/lib/python2.7/site-packages/pandas/io/parsers.py:1170: DtypeWarning:\n",
      "\n",
      "Columns (77,84) have mixed types. Specify dtype option on import or set low_memory=False.\n",
      "\n",
      "//anaconda/lib/python2.7/site-packages/pandas/io/parsers.py:1170: DtypeWarning:\n",
      "\n",
      "Columns (48,69,76,77,84) have mixed types. Specify dtype option on import or set low_memory=False.\n",
      "\n",
      "//anaconda/lib/python2.7/site-packages/pandas/io/parsers.py:1170: DtypeWarning:\n",
      "\n",
      "Columns (77,84,85) have mixed types. Specify dtype option on import or set low_memory=False.\n",
      "\n"
     ]
    }
   ],
   "source": [
    "data_2014_6 = pd.read_csv(\"data/On_Time_On_Time_Performance_2014_6.csv\")\n",
    "data_2014_7 = pd.read_csv(\"data/On_Time_On_Time_Performance_2014_7.csv\")\n",
    "data_2014_8 = pd.read_csv(\"data/On_Time_On_Time_Performance_2014_8.csv\")\n",
    "data_2014_9 = pd.read_csv(\"data/On_Time_On_Time_Performance_2014_9.csv\")\n",
    "data_2014_10 = pd.read_csv(\"data/On_Time_On_Time_Performance_2014_10.csv\")\n",
    "data_2014_11 = pd.read_csv(\"data/On_Time_On_Time_Performance_2014_11.csv\")\n",
    "data_2014_12 = pd.read_csv(\"data/On_Time_On_Time_Performance_2014_12.csv\")\n",
    "data_2015_1 = pd.read_csv(\"data/On_Time_On_Time_Performance_2015_1.csv\")\n",
    "data_2015_2 = pd.read_csv(\"data/On_Time_On_Time_Performance_2015_2.csv\")\n",
    "data_2015_3 = pd.read_csv(\"data/On_Time_On_Time_Performance_2015_3.csv\")\n",
    "data_2015_4 = pd.read_csv(\"data/On_Time_On_Time_Performance_2015_4.csv\")\n",
    "data_2015_5 = pd.read_csv(\"data/On_Time_On_Time_Performance_2015_5.csv\")\n"
   ]
  },
  {
   "cell_type": "code",
   "execution_count": 3,
   "metadata": {
    "collapsed": false
   },
   "outputs": [],
   "source": [
    "#Combine the datasets:\n",
    "data_raw= ()\n",
    "data_raw = data_2014_6.append([data_2014_7, data_2014_8, data_2014_9, data_2014_10,data_2014_11, data_2014_12, \n",
    "                                data_2015_1, data_2015_2, data_2015_3, data_2015_4, data_2015_5], ignore_index=True)\n",
    "\n"
   ]
  },
  {
   "cell_type": "markdown",
   "metadata": {},
   "source": [
    "##Add additional variables to dataset"
   ]
  },
  {
   "cell_type": "markdown",
   "metadata": {},
   "source": [
    "###2. Add Airline Descriptions\n",
    "####The BTS \"On-Performance\" data sets do not contain the full name of the airlines and therefore an additional variable ('Description') was added through a lookup table (also obtained from BTS).\n"
   ]
  },
  {
   "cell_type": "code",
   "execution_count": 4,
   "metadata": {
    "collapsed": true
   },
   "outputs": [],
   "source": [
    "Airline_ID = pd.read_csv(\"data/L_AIRLINE_ID.csv\", skipinitialspace=True)\n",
    "Airline_ID.head()\n",
    "data_full= pd.merge(data_raw, Airline_ID, how='left', left_on='AirlineID', right_on='Code')\n"
   ]
  },
  {
   "cell_type": "markdown",
   "metadata": {},
   "source": [
    "###3. Add coordinates (latitude and longitude) for each airport in the data set. \n",
    "####This was in order to calculate the distance between airports and account for the jet stream when calculating target times for each route\n",
    "####Source: http://datahub.io/dataset/global-airports "
   ]
  },
  {
   "cell_type": "code",
   "execution_count": 5,
   "metadata": {
    "collapsed": false,
    "scrolled": true
   },
   "outputs": [
    {
     "data": {
      "text/html": [
       "<div>\n",
       "<table border=\"1\" class=\"dataframe\">\n",
       "  <thead>\n",
       "    <tr style=\"text-align: right;\">\n",
       "      <th></th>\n",
       "      <th>airport_id</th>\n",
       "      <th>name</th>\n",
       "      <th>city</th>\n",
       "      <th>country</th>\n",
       "      <th>iata_faa</th>\n",
       "      <th>iaco</th>\n",
       "      <th>latitude</th>\n",
       "      <th>longitude</th>\n",
       "      <th>altitude</th>\n",
       "      <th>zone</th>\n",
       "      <th>dst</th>\n",
       "    </tr>\n",
       "  </thead>\n",
       "  <tbody>\n",
       "    <tr>\n",
       "      <th>318</th>\n",
       "      <td>6891</td>\n",
       "      <td>Putnam County Airport</td>\n",
       "      <td>Greencastle</td>\n",
       "      <td>United States</td>\n",
       "      <td>4I7</td>\n",
       "      <td>NaN</td>\n",
       "      <td>39.633556</td>\n",
       "      <td>-86.813806</td>\n",
       "      <td>842</td>\n",
       "      <td>-5</td>\n",
       "      <td>U</td>\n",
       "    </tr>\n",
       "    <tr>\n",
       "      <th>104</th>\n",
       "      <td>6890</td>\n",
       "      <td>Dowagiac Municipal Airport</td>\n",
       "      <td>Dowagiac</td>\n",
       "      <td>United States</td>\n",
       "      <td>C91</td>\n",
       "      <td>NaN</td>\n",
       "      <td>41.992934</td>\n",
       "      <td>-86.128012</td>\n",
       "      <td>748</td>\n",
       "      <td>-5</td>\n",
       "      <td>U</td>\n",
       "    </tr>\n",
       "    <tr>\n",
       "      <th>121</th>\n",
       "      <td>6889</td>\n",
       "      <td>Cambridge Municipal Airport</td>\n",
       "      <td>Cambridge</td>\n",
       "      <td>United States</td>\n",
       "      <td>CDI</td>\n",
       "      <td>NaN</td>\n",
       "      <td>39.975028</td>\n",
       "      <td>-81.577583</td>\n",
       "      <td>799</td>\n",
       "      <td>-5</td>\n",
       "      <td>U</td>\n",
       "    </tr>\n",
       "    <tr>\n",
       "      <th>470</th>\n",
       "      <td>6885</td>\n",
       "      <td>Door County Cherryland Airport</td>\n",
       "      <td>Sturgeon Bay</td>\n",
       "      <td>United States</td>\n",
       "      <td>SUE</td>\n",
       "      <td>NaN</td>\n",
       "      <td>44.843667</td>\n",
       "      <td>-87.421556</td>\n",
       "      <td>725</td>\n",
       "      <td>-6</td>\n",
       "      <td>U</td>\n",
       "    </tr>\n",
       "    <tr>\n",
       "      <th>507</th>\n",
       "      <td>6884</td>\n",
       "      <td>Shoestring Aviation Airfield</td>\n",
       "      <td>Stewartstown</td>\n",
       "      <td>United States</td>\n",
       "      <td>0P2</td>\n",
       "      <td>NaN</td>\n",
       "      <td>39.794824</td>\n",
       "      <td>-76.647191</td>\n",
       "      <td>1000</td>\n",
       "      <td>-5</td>\n",
       "      <td>U</td>\n",
       "    </tr>\n",
       "  </tbody>\n",
       "</table>\n",
       "</div>"
      ],
      "text/plain": [
       "     airport_id                            name          city        country  \\\n",
       "318        6891           Putnam County Airport   Greencastle  United States   \n",
       "104        6890      Dowagiac Municipal Airport      Dowagiac  United States   \n",
       "121        6889     Cambridge Municipal Airport     Cambridge  United States   \n",
       "470        6885  Door County Cherryland Airport  Sturgeon Bay  United States   \n",
       "507        6884    Shoestring Aviation Airfield  Stewartstown  United States   \n",
       "\n",
       "    iata_faa iaco   latitude  longitude  altitude  zone dst  \n",
       "318      4I7  NaN  39.633556 -86.813806       842    -5   U  \n",
       "104      C91  NaN  41.992934 -86.128012       748    -5   U  \n",
       "121      CDI  NaN  39.975028 -81.577583       799    -5   U  \n",
       "470      SUE  NaN  44.843667 -87.421556       725    -6   U  \n",
       "507      0P2  NaN  39.794824 -76.647191      1000    -5   U  "
      ]
     },
     "execution_count": 5,
     "metadata": {},
     "output_type": "execute_result"
    }
   ],
   "source": [
    "#Get data on each airport. Read the csv file in iterations, and filter by US airports only to reduce loading time.\n",
    "iter_csv= pd.read_csv(\"data/global_airports.csv\", iterator=True, chunksize=1000)\n",
    "airport_data = pd.concat([chunk[chunk['country'] == 'United States'] for chunk in iter_csv])\n",
    "airport_data.head()\n"
   ]
  },
  {
   "cell_type": "code",
   "execution_count": 6,
   "metadata": {
    "collapsed": false
   },
   "outputs": [
    {
     "data": {
      "text/html": [
       "<div>\n",
       "<table border=\"1\" class=\"dataframe\">\n",
       "  <thead>\n",
       "    <tr style=\"text-align: right;\">\n",
       "      <th></th>\n",
       "      <th>Year</th>\n",
       "      <th>Quarter</th>\n",
       "      <th>Month</th>\n",
       "      <th>DayofMonth</th>\n",
       "      <th>DayOfWeek</th>\n",
       "      <th>FlightDate</th>\n",
       "      <th>UniqueCarrier</th>\n",
       "      <th>AirlineID</th>\n",
       "      <th>Carrier</th>\n",
       "      <th>TailNum</th>\n",
       "      <th>...</th>\n",
       "      <th>Div5WheelsOff</th>\n",
       "      <th>Div5TailNum</th>\n",
       "      <th>Unnamed: 109</th>\n",
       "      <th>Code</th>\n",
       "      <th>Description</th>\n",
       "      <th>Des_abbrev</th>\n",
       "      <th>lat_origin</th>\n",
       "      <th>lon_origin</th>\n",
       "      <th>lat_dest</th>\n",
       "      <th>lon_dest</th>\n",
       "    </tr>\n",
       "  </thead>\n",
       "  <tbody>\n",
       "    <tr>\n",
       "      <th>0</th>\n",
       "      <td>2014</td>\n",
       "      <td>2</td>\n",
       "      <td>6</td>\n",
       "      <td>1</td>\n",
       "      <td>7</td>\n",
       "      <td>2014-06-01</td>\n",
       "      <td>DL</td>\n",
       "      <td>19790</td>\n",
       "      <td>DL</td>\n",
       "      <td>N981AT</td>\n",
       "      <td>...</td>\n",
       "      <td>NaN</td>\n",
       "      <td>NaN</td>\n",
       "      <td>NaN</td>\n",
       "      <td>19790</td>\n",
       "      <td>Delta Air Lines Inc.</td>\n",
       "      <td>DL</td>\n",
       "      <td>33.636719</td>\n",
       "      <td>-84.428067</td>\n",
       "      <td>40.652083</td>\n",
       "      <td>-75.440806</td>\n",
       "    </tr>\n",
       "    <tr>\n",
       "      <th>1</th>\n",
       "      <td>2014</td>\n",
       "      <td>2</td>\n",
       "      <td>6</td>\n",
       "      <td>1</td>\n",
       "      <td>7</td>\n",
       "      <td>2014-06-01</td>\n",
       "      <td>DL</td>\n",
       "      <td>19790</td>\n",
       "      <td>DL</td>\n",
       "      <td>N955AT</td>\n",
       "      <td>...</td>\n",
       "      <td>NaN</td>\n",
       "      <td>NaN</td>\n",
       "      <td>NaN</td>\n",
       "      <td>19790</td>\n",
       "      <td>Delta Air Lines Inc.</td>\n",
       "      <td>DL</td>\n",
       "      <td>33.636719</td>\n",
       "      <td>-84.428067</td>\n",
       "      <td>40.652083</td>\n",
       "      <td>-75.440806</td>\n",
       "    </tr>\n",
       "    <tr>\n",
       "      <th>2</th>\n",
       "      <td>2014</td>\n",
       "      <td>2</td>\n",
       "      <td>6</td>\n",
       "      <td>2</td>\n",
       "      <td>1</td>\n",
       "      <td>2014-06-02</td>\n",
       "      <td>DL</td>\n",
       "      <td>19790</td>\n",
       "      <td>DL</td>\n",
       "      <td>N995AT</td>\n",
       "      <td>...</td>\n",
       "      <td>NaN</td>\n",
       "      <td>NaN</td>\n",
       "      <td>NaN</td>\n",
       "      <td>19790</td>\n",
       "      <td>Delta Air Lines Inc.</td>\n",
       "      <td>DL</td>\n",
       "      <td>33.636719</td>\n",
       "      <td>-84.428067</td>\n",
       "      <td>40.652083</td>\n",
       "      <td>-75.440806</td>\n",
       "    </tr>\n",
       "    <tr>\n",
       "      <th>3</th>\n",
       "      <td>2014</td>\n",
       "      <td>2</td>\n",
       "      <td>6</td>\n",
       "      <td>3</td>\n",
       "      <td>2</td>\n",
       "      <td>2014-06-03</td>\n",
       "      <td>DL</td>\n",
       "      <td>19790</td>\n",
       "      <td>DL</td>\n",
       "      <td>N924AT</td>\n",
       "      <td>...</td>\n",
       "      <td>NaN</td>\n",
       "      <td>NaN</td>\n",
       "      <td>NaN</td>\n",
       "      <td>19790</td>\n",
       "      <td>Delta Air Lines Inc.</td>\n",
       "      <td>DL</td>\n",
       "      <td>33.636719</td>\n",
       "      <td>-84.428067</td>\n",
       "      <td>40.652083</td>\n",
       "      <td>-75.440806</td>\n",
       "    </tr>\n",
       "    <tr>\n",
       "      <th>4</th>\n",
       "      <td>2014</td>\n",
       "      <td>2</td>\n",
       "      <td>6</td>\n",
       "      <td>3</td>\n",
       "      <td>2</td>\n",
       "      <td>2014-06-03</td>\n",
       "      <td>DL</td>\n",
       "      <td>19790</td>\n",
       "      <td>DL</td>\n",
       "      <td>N966AT</td>\n",
       "      <td>...</td>\n",
       "      <td>NaN</td>\n",
       "      <td>NaN</td>\n",
       "      <td>NaN</td>\n",
       "      <td>19790</td>\n",
       "      <td>Delta Air Lines Inc.</td>\n",
       "      <td>DL</td>\n",
       "      <td>33.636719</td>\n",
       "      <td>-84.428067</td>\n",
       "      <td>40.652083</td>\n",
       "      <td>-75.440806</td>\n",
       "    </tr>\n",
       "  </tbody>\n",
       "</table>\n",
       "<p>5 rows × 117 columns</p>\n",
       "</div>"
      ],
      "text/plain": [
       "   Year  Quarter  Month  DayofMonth  DayOfWeek  FlightDate UniqueCarrier  \\\n",
       "0  2014        2      6           1          7  2014-06-01            DL   \n",
       "1  2014        2      6           1          7  2014-06-01            DL   \n",
       "2  2014        2      6           2          1  2014-06-02            DL   \n",
       "3  2014        2      6           3          2  2014-06-03            DL   \n",
       "4  2014        2      6           3          2  2014-06-03            DL   \n",
       "\n",
       "   AirlineID Carrier TailNum    ...      Div5WheelsOff  Div5TailNum  \\\n",
       "0      19790      DL  N981AT    ...                NaN          NaN   \n",
       "1      19790      DL  N955AT    ...                NaN          NaN   \n",
       "2      19790      DL  N995AT    ...                NaN          NaN   \n",
       "3      19790      DL  N924AT    ...                NaN          NaN   \n",
       "4      19790      DL  N966AT    ...                NaN          NaN   \n",
       "\n",
       "   Unnamed: 109   Code           Description Des_abbrev lat_origin  \\\n",
       "0           NaN  19790  Delta Air Lines Inc.         DL  33.636719   \n",
       "1           NaN  19790  Delta Air Lines Inc.         DL  33.636719   \n",
       "2           NaN  19790  Delta Air Lines Inc.         DL  33.636719   \n",
       "3           NaN  19790  Delta Air Lines Inc.         DL  33.636719   \n",
       "4           NaN  19790  Delta Air Lines Inc.         DL  33.636719   \n",
       "\n",
       "   lon_origin   lat_dest   lon_dest  \n",
       "0  -84.428067  40.652083 -75.440806  \n",
       "1  -84.428067  40.652083 -75.440806  \n",
       "2  -84.428067  40.652083 -75.440806  \n",
       "3  -84.428067  40.652083 -75.440806  \n",
       "4  -84.428067  40.652083 -75.440806  \n",
       "\n",
       "[5 rows x 117 columns]"
      ]
     },
     "execution_count": 6,
     "metadata": {},
     "output_type": "execute_result"
    }
   ],
   "source": [
    "#Add latitude and longitude of each airport to the data set covering all routes. \n",
    "airport_location = airport_data[[\"iata_faa\",\"latitude\",\"longitude\"]]\n",
    "airport_location.head()\n",
    "data1=()\n",
    "\n",
    "##Add coordinates of Origin airport\n",
    "data1 = pd.merge(data_full, airport_location, how='left', left_on=\"Origin\", right_on=\"iata_faa\",left_index=False, right_index=False, sort=True)\n",
    "data1.rename(columns = {'latitude': 'lat_origin', 'longitude': 'lon_origin'}, inplace = True)\n",
    "\n",
    "#Add coordinates of Destination airport\n",
    "data2 = pd.merge(data1, airport_location, how='left', left_on=\"Dest\", right_on=\"iata_faa\",left_index=False, right_index=False, sort=True)\n",
    "data2.rename(columns = {'latitude': 'lat_dest', 'longitude': 'lon_dest'}, inplace = True)\n",
    "data2.drop(['iata_faa_x','iata_faa_y'], axis=1, inplace=True)\n",
    "data_full=data2\n",
    "data_full.head() "
   ]
  },
  {
   "cell_type": "code",
   "execution_count": 7,
   "metadata": {
    "collapsed": false
   },
   "outputs": [
    {
     "data": {
      "text/html": [
       "<div>\n",
       "<table border=\"1\" class=\"dataframe\">\n",
       "  <thead>\n",
       "    <tr style=\"text-align: right;\">\n",
       "      <th></th>\n",
       "      <th>Year</th>\n",
       "      <th>Quarter</th>\n",
       "      <th>Month</th>\n",
       "      <th>DayofMonth</th>\n",
       "      <th>DayOfWeek</th>\n",
       "      <th>FlightDate</th>\n",
       "      <th>UniqueCarrier</th>\n",
       "      <th>AirlineID</th>\n",
       "      <th>Carrier</th>\n",
       "      <th>TailNum</th>\n",
       "      <th>...</th>\n",
       "      <th>Div5WheelsOff</th>\n",
       "      <th>Div5TailNum</th>\n",
       "      <th>Unnamed: 109</th>\n",
       "      <th>Code</th>\n",
       "      <th>Description</th>\n",
       "      <th>Des_abbrev</th>\n",
       "      <th>lat_origin</th>\n",
       "      <th>lon_origin</th>\n",
       "      <th>lat_dest</th>\n",
       "      <th>lon_dest</th>\n",
       "    </tr>\n",
       "  </thead>\n",
       "  <tbody>\n",
       "  </tbody>\n",
       "</table>\n",
       "<p>0 rows × 117 columns</p>\n",
       "</div>"
      ],
      "text/plain": [
       "Empty DataFrame\n",
       "Columns: [Year, Quarter, Month, DayofMonth, DayOfWeek, FlightDate, UniqueCarrier, AirlineID, Carrier, TailNum, FlightNum, OriginAirportID, OriginAirportSeqID, OriginCityMarketID, Origin, OriginCityName, OriginState, OriginStateFips, OriginStateName, OriginWac, DestAirportID, DestAirportSeqID, DestCityMarketID, Dest, DestCityName, DestState, DestStateFips, DestStateName, DestWac, CRSDepTime, DepTime, DepDelay, DepDelayMinutes, DepDel15, DepartureDelayGroups, DepTimeBlk, TaxiOut, WheelsOff, WheelsOn, TaxiIn, CRSArrTime, ArrTime, ArrDelay, ArrDelayMinutes, ArrDel15, ArrivalDelayGroups, ArrTimeBlk, Cancelled, CancellationCode, Diverted, CRSElapsedTime, ActualElapsedTime, AirTime, Flights, Distance, DistanceGroup, CarrierDelay, WeatherDelay, NASDelay, SecurityDelay, LateAircraftDelay, FirstDepTime, TotalAddGTime, LongestAddGTime, DivAirportLandings, DivReachedDest, DivActualElapsedTime, DivArrDelay, DivDistance, Div1Airport, Div1AirportID, Div1AirportSeqID, Div1WheelsOn, Div1TotalGTime, Div1LongestGTime, Div1WheelsOff, Div1TailNum, Div2Airport, Div2AirportID, Div2AirportSeqID, Div2WheelsOn, Div2TotalGTime, Div2LongestGTime, Div2WheelsOff, Div2TailNum, Div3Airport, Div3AirportID, Div3AirportSeqID, Div3WheelsOn, Div3TotalGTime, Div3LongestGTime, Div3WheelsOff, Div3TailNum, Div4Airport, Div4AirportID, Div4AirportSeqID, Div4WheelsOn, Div4TotalGTime, Div4LongestGTime, Div4WheelsOff, ...]\n",
       "Index: []\n",
       "\n",
       "[0 rows x 117 columns]"
      ]
     },
     "execution_count": 7,
     "metadata": {},
     "output_type": "execute_result"
    }
   ],
   "source": [
    "#Check to make sure there was data for each airport of origin and destination. \n",
    "data_full[data_full.lon_origin == np.nan ]"
   ]
  },
  {
   "cell_type": "markdown",
   "metadata": {},
   "source": []
  },
  {
   "cell_type": "markdown",
   "metadata": {},
   "source": [
    "## B. Data Exploration & Processing"
   ]
  },
  {
   "cell_type": "markdown",
   "metadata": {},
   "source": [
    "###1. Find size of data set and variable names"
   ]
  },
  {
   "cell_type": "code",
   "execution_count": 8,
   "metadata": {
    "collapsed": false
   },
   "outputs": [
    {
     "data": {
      "text/plain": [
       "5816340"
      ]
     },
     "execution_count": 8,
     "metadata": {},
     "output_type": "execute_result"
    }
   ],
   "source": [
    "len(data_full)"
   ]
  },
  {
   "cell_type": "code",
   "execution_count": 9,
   "metadata": {
    "collapsed": false,
    "scrolled": true
   },
   "outputs": [
    {
     "data": {
      "text/plain": [
       "['Year',\n",
       " 'Quarter',\n",
       " 'Month',\n",
       " 'DayofMonth',\n",
       " 'DayOfWeek',\n",
       " 'FlightDate',\n",
       " 'UniqueCarrier',\n",
       " 'AirlineID',\n",
       " 'Carrier',\n",
       " 'TailNum',\n",
       " 'FlightNum',\n",
       " 'OriginAirportID',\n",
       " 'OriginAirportSeqID',\n",
       " 'OriginCityMarketID',\n",
       " 'Origin',\n",
       " 'OriginCityName',\n",
       " 'OriginState',\n",
       " 'OriginStateFips',\n",
       " 'OriginStateName',\n",
       " 'OriginWac',\n",
       " 'DestAirportID',\n",
       " 'DestAirportSeqID',\n",
       " 'DestCityMarketID',\n",
       " 'Dest',\n",
       " 'DestCityName',\n",
       " 'DestState',\n",
       " 'DestStateFips',\n",
       " 'DestStateName',\n",
       " 'DestWac',\n",
       " 'CRSDepTime',\n",
       " 'DepTime',\n",
       " 'DepDelay',\n",
       " 'DepDelayMinutes',\n",
       " 'DepDel15',\n",
       " 'DepartureDelayGroups',\n",
       " 'DepTimeBlk',\n",
       " 'TaxiOut',\n",
       " 'WheelsOff',\n",
       " 'WheelsOn',\n",
       " 'TaxiIn',\n",
       " 'CRSArrTime',\n",
       " 'ArrTime',\n",
       " 'ArrDelay',\n",
       " 'ArrDelayMinutes',\n",
       " 'ArrDel15',\n",
       " 'ArrivalDelayGroups',\n",
       " 'ArrTimeBlk',\n",
       " 'Cancelled',\n",
       " 'CancellationCode',\n",
       " 'Diverted',\n",
       " 'CRSElapsedTime',\n",
       " 'ActualElapsedTime',\n",
       " 'AirTime',\n",
       " 'Flights',\n",
       " 'Distance',\n",
       " 'DistanceGroup',\n",
       " 'CarrierDelay',\n",
       " 'WeatherDelay',\n",
       " 'NASDelay',\n",
       " 'SecurityDelay',\n",
       " 'LateAircraftDelay',\n",
       " 'FirstDepTime',\n",
       " 'TotalAddGTime',\n",
       " 'LongestAddGTime',\n",
       " 'DivAirportLandings',\n",
       " 'DivReachedDest',\n",
       " 'DivActualElapsedTime',\n",
       " 'DivArrDelay',\n",
       " 'DivDistance',\n",
       " 'Div1Airport',\n",
       " 'Div1AirportID',\n",
       " 'Div1AirportSeqID',\n",
       " 'Div1WheelsOn',\n",
       " 'Div1TotalGTime',\n",
       " 'Div1LongestGTime',\n",
       " 'Div1WheelsOff',\n",
       " 'Div1TailNum',\n",
       " 'Div2Airport',\n",
       " 'Div2AirportID',\n",
       " 'Div2AirportSeqID',\n",
       " 'Div2WheelsOn',\n",
       " 'Div2TotalGTime',\n",
       " 'Div2LongestGTime',\n",
       " 'Div2WheelsOff',\n",
       " 'Div2TailNum',\n",
       " 'Div3Airport',\n",
       " 'Div3AirportID',\n",
       " 'Div3AirportSeqID',\n",
       " 'Div3WheelsOn',\n",
       " 'Div3TotalGTime',\n",
       " 'Div3LongestGTime',\n",
       " 'Div3WheelsOff',\n",
       " 'Div3TailNum',\n",
       " 'Div4Airport',\n",
       " 'Div4AirportID',\n",
       " 'Div4AirportSeqID',\n",
       " 'Div4WheelsOn',\n",
       " 'Div4TotalGTime',\n",
       " 'Div4LongestGTime',\n",
       " 'Div4WheelsOff',\n",
       " 'Div4TailNum',\n",
       " 'Div5Airport',\n",
       " 'Div5AirportID',\n",
       " 'Div5AirportSeqID',\n",
       " 'Div5WheelsOn',\n",
       " 'Div5TotalGTime',\n",
       " 'Div5LongestGTime',\n",
       " 'Div5WheelsOff',\n",
       " 'Div5TailNum',\n",
       " 'Unnamed: 109',\n",
       " 'Code',\n",
       " 'Description',\n",
       " 'Des_abbrev',\n",
       " 'lat_origin',\n",
       " 'lon_origin',\n",
       " 'lat_dest',\n",
       " 'lon_dest']"
      ]
     },
     "execution_count": 9,
     "metadata": {},
     "output_type": "execute_result"
    }
   ],
   "source": [
    "list(data_full)"
   ]
  },
  {
   "cell_type": "code",
   "execution_count": 10,
   "metadata": {
    "collapsed": false
   },
   "outputs": [
    {
     "data": {
      "text/html": [
       "<div>\n",
       "<table border=\"1\" class=\"dataframe\">\n",
       "  <thead>\n",
       "    <tr style=\"text-align: right;\">\n",
       "      <th></th>\n",
       "      <th>CRSDepTime</th>\n",
       "      <th>DepTime</th>\n",
       "      <th>DepTimeBlk</th>\n",
       "      <th>DepDelay</th>\n",
       "      <th>DepDelayMinutes</th>\n",
       "      <th>CRSArrTime</th>\n",
       "      <th>ArrTime</th>\n",
       "      <th>CRSElapsedTime</th>\n",
       "      <th>ActualElapsedTime</th>\n",
       "    </tr>\n",
       "  </thead>\n",
       "  <tbody>\n",
       "    <tr>\n",
       "      <th>0</th>\n",
       "      <td>1339</td>\n",
       "      <td>1335</td>\n",
       "      <td>1300-1359</td>\n",
       "      <td>-4</td>\n",
       "      <td>0</td>\n",
       "      <td>1537</td>\n",
       "      <td>1533</td>\n",
       "      <td>118</td>\n",
       "      <td>118</td>\n",
       "    </tr>\n",
       "    <tr>\n",
       "      <th>1</th>\n",
       "      <td>2045</td>\n",
       "      <td>2042</td>\n",
       "      <td>2000-2059</td>\n",
       "      <td>-3</td>\n",
       "      <td>0</td>\n",
       "      <td>2239</td>\n",
       "      <td>2238</td>\n",
       "      <td>114</td>\n",
       "      <td>116</td>\n",
       "    </tr>\n",
       "    <tr>\n",
       "      <th>2</th>\n",
       "      <td>2045</td>\n",
       "      <td>2057</td>\n",
       "      <td>2000-2059</td>\n",
       "      <td>12</td>\n",
       "      <td>12</td>\n",
       "      <td>2239</td>\n",
       "      <td>2250</td>\n",
       "      <td>114</td>\n",
       "      <td>113</td>\n",
       "    </tr>\n",
       "    <tr>\n",
       "      <th>3</th>\n",
       "      <td>1339</td>\n",
       "      <td>1338</td>\n",
       "      <td>1300-1359</td>\n",
       "      <td>-1</td>\n",
       "      <td>0</td>\n",
       "      <td>1537</td>\n",
       "      <td>1538</td>\n",
       "      <td>118</td>\n",
       "      <td>120</td>\n",
       "    </tr>\n",
       "    <tr>\n",
       "      <th>4</th>\n",
       "      <td>2045</td>\n",
       "      <td>2037</td>\n",
       "      <td>2000-2059</td>\n",
       "      <td>-8</td>\n",
       "      <td>0</td>\n",
       "      <td>2239</td>\n",
       "      <td>2244</td>\n",
       "      <td>114</td>\n",
       "      <td>127</td>\n",
       "    </tr>\n",
       "  </tbody>\n",
       "</table>\n",
       "</div>"
      ],
      "text/plain": [
       "   CRSDepTime  DepTime DepTimeBlk  DepDelay  DepDelayMinutes  CRSArrTime  \\\n",
       "0        1339     1335  1300-1359        -4                0        1537   \n",
       "1        2045     2042  2000-2059        -3                0        2239   \n",
       "2        2045     2057  2000-2059        12               12        2239   \n",
       "3        1339     1338  1300-1359        -1                0        1537   \n",
       "4        2045     2037  2000-2059        -8                0        2239   \n",
       "\n",
       "   ArrTime  CRSElapsedTime  ActualElapsedTime  \n",
       "0     1533             118                118  \n",
       "1     2238             114                116  \n",
       "2     2250             114                113  \n",
       "3     1538             118                120  \n",
       "4     2244             114                127  "
      ]
     },
     "execution_count": 10,
     "metadata": {},
     "output_type": "execute_result"
    }
   ],
   "source": [
    "#Look at the different departure and arrival time variables to see how they differ.\n",
    "data_full[['CRSDepTime','DepTime', 'DepTimeBlk' ,'DepDelay','DepDelayMinutes','CRSArrTime','ArrTime', 'CRSElapsedTime','ActualElapsedTime']].head()"
   ]
  },
  {
   "cell_type": "markdown",
   "metadata": {
    "collapsed": false
   },
   "source": [
    "###2. Find airlines that fly the 20 most common routes\n",
    "####i. Find the 20 most common routes."
   ]
  },
  {
   "cell_type": "code",
   "execution_count": 11,
   "metadata": {
    "collapsed": false
   },
   "outputs": [
    {
     "data": {
      "text/html": [
       "<div>\n",
       "<table border=\"1\" class=\"dataframe\">\n",
       "  <thead>\n",
       "    <tr style=\"text-align: right;\">\n",
       "      <th></th>\n",
       "      <th>Origin</th>\n",
       "      <th>Dest</th>\n",
       "      <th>Count</th>\n",
       "    </tr>\n",
       "  </thead>\n",
       "  <tbody>\n",
       "    <tr>\n",
       "      <th>0</th>\n",
       "      <td>SFO</td>\n",
       "      <td>LAX</td>\n",
       "      <td>13386</td>\n",
       "    </tr>\n",
       "    <tr>\n",
       "      <th>1</th>\n",
       "      <td>LAX</td>\n",
       "      <td>JFK</td>\n",
       "      <td>13374</td>\n",
       "    </tr>\n",
       "    <tr>\n",
       "      <th>2</th>\n",
       "      <td>JFK</td>\n",
       "      <td>LAX</td>\n",
       "      <td>13373</td>\n",
       "    </tr>\n",
       "    <tr>\n",
       "      <th>3</th>\n",
       "      <td>LAX</td>\n",
       "      <td>SFO</td>\n",
       "      <td>13288</td>\n",
       "    </tr>\n",
       "    <tr>\n",
       "      <th>4</th>\n",
       "      <td>LAS</td>\n",
       "      <td>LAX</td>\n",
       "      <td>11252</td>\n",
       "    </tr>\n",
       "    <tr>\n",
       "      <th>5</th>\n",
       "      <td>LAX</td>\n",
       "      <td>LAS</td>\n",
       "      <td>10910</td>\n",
       "    </tr>\n",
       "    <tr>\n",
       "      <th>6</th>\n",
       "      <td>LGA</td>\n",
       "      <td>ORD</td>\n",
       "      <td>10124</td>\n",
       "    </tr>\n",
       "    <tr>\n",
       "      <th>7</th>\n",
       "      <td>ORD</td>\n",
       "      <td>LGA</td>\n",
       "      <td>10096</td>\n",
       "    </tr>\n",
       "    <tr>\n",
       "      <th>8</th>\n",
       "      <td>HNL</td>\n",
       "      <td>OGG</td>\n",
       "      <td>9560</td>\n",
       "    </tr>\n",
       "    <tr>\n",
       "      <th>9</th>\n",
       "      <td>OGG</td>\n",
       "      <td>HNL</td>\n",
       "      <td>9500</td>\n",
       "    </tr>\n",
       "    <tr>\n",
       "      <th>10</th>\n",
       "      <td>SFO</td>\n",
       "      <td>JFK</td>\n",
       "      <td>9230</td>\n",
       "    </tr>\n",
       "    <tr>\n",
       "      <th>11</th>\n",
       "      <td>JFK</td>\n",
       "      <td>SFO</td>\n",
       "      <td>9226</td>\n",
       "    </tr>\n",
       "    <tr>\n",
       "      <th>12</th>\n",
       "      <td>MCO</td>\n",
       "      <td>ATL</td>\n",
       "      <td>8493</td>\n",
       "    </tr>\n",
       "    <tr>\n",
       "      <th>13</th>\n",
       "      <td>ATL</td>\n",
       "      <td>MCO</td>\n",
       "      <td>8491</td>\n",
       "    </tr>\n",
       "    <tr>\n",
       "      <th>14</th>\n",
       "      <td>BOS</td>\n",
       "      <td>DCA</td>\n",
       "      <td>8474</td>\n",
       "    </tr>\n",
       "    <tr>\n",
       "      <th>15</th>\n",
       "      <td>DCA</td>\n",
       "      <td>BOS</td>\n",
       "      <td>8468</td>\n",
       "    </tr>\n",
       "    <tr>\n",
       "      <th>16</th>\n",
       "      <td>SFO</td>\n",
       "      <td>LAS</td>\n",
       "      <td>8461</td>\n",
       "    </tr>\n",
       "    <tr>\n",
       "      <th>17</th>\n",
       "      <td>LAX</td>\n",
       "      <td>ORD</td>\n",
       "      <td>8413</td>\n",
       "    </tr>\n",
       "    <tr>\n",
       "      <th>18</th>\n",
       "      <td>ATL</td>\n",
       "      <td>LGA</td>\n",
       "      <td>8386</td>\n",
       "    </tr>\n",
       "    <tr>\n",
       "      <th>19</th>\n",
       "      <td>LGA</td>\n",
       "      <td>ATL</td>\n",
       "      <td>8375</td>\n",
       "    </tr>\n",
       "  </tbody>\n",
       "</table>\n",
       "</div>"
      ],
      "text/plain": [
       "   Origin Dest  Count\n",
       "0     SFO  LAX  13386\n",
       "1     LAX  JFK  13374\n",
       "2     JFK  LAX  13373\n",
       "3     LAX  SFO  13288\n",
       "4     LAS  LAX  11252\n",
       "5     LAX  LAS  10910\n",
       "6     LGA  ORD  10124\n",
       "7     ORD  LGA  10096\n",
       "8     HNL  OGG   9560\n",
       "9     OGG  HNL   9500\n",
       "10    SFO  JFK   9230\n",
       "11    JFK  SFO   9226\n",
       "12    MCO  ATL   8493\n",
       "13    ATL  MCO   8491\n",
       "14    BOS  DCA   8474\n",
       "15    DCA  BOS   8468\n",
       "16    SFO  LAS   8461\n",
       "17    LAX  ORD   8413\n",
       "18    ATL  LGA   8386\n",
       "19    LGA  ATL   8375"
      ]
     },
     "execution_count": 11,
     "metadata": {},
     "output_type": "execute_result"
    }
   ],
   "source": [
    "data_route=data_full[[\"Origin\", \"Dest\"]]\n",
    "route_grouped = data_route.groupby([\"Origin\", \"Dest\"]).size()\n",
    "DF_data_route = pd.DataFrame(route_grouped)\n",
    "DF_data_route.rename(columns = {0: 'Count'}, inplace = True)\n",
    "data_route_sorted= DF_data_route.sort('Count', axis=0 , ascending=False)\n",
    "twenty_routes = data_route_sorted.reset_index().head(20)\n",
    "twenty_routes"
   ]
  },
  {
   "cell_type": "markdown",
   "metadata": {},
   "source": [
    "####ii. Get a list of the carriers that fly those 20 routes."
   ]
  },
  {
   "cell_type": "code",
   "execution_count": 12,
   "metadata": {
    "collapsed": false
   },
   "outputs": [
    {
     "data": {
      "text/html": [
       "<div>\n",
       "<table border=\"1\" class=\"dataframe\">\n",
       "  <thead>\n",
       "    <tr style=\"text-align: right;\">\n",
       "      <th></th>\n",
       "      <th>Origin</th>\n",
       "      <th>Dest</th>\n",
       "      <th>UniqueCarrier</th>\n",
       "      <th>AirlineID</th>\n",
       "      <th>Carrier</th>\n",
       "    </tr>\n",
       "  </thead>\n",
       "  <tbody>\n",
       "    <tr>\n",
       "      <th>0</th>\n",
       "      <td>LGA</td>\n",
       "      <td>ATL</td>\n",
       "      <td>DL</td>\n",
       "      <td>19790</td>\n",
       "      <td>DL</td>\n",
       "    </tr>\n",
       "    <tr>\n",
       "      <th>1</th>\n",
       "      <td>LGA</td>\n",
       "      <td>ATL</td>\n",
       "      <td>DL</td>\n",
       "      <td>19790</td>\n",
       "      <td>DL</td>\n",
       "    </tr>\n",
       "    <tr>\n",
       "      <th>2</th>\n",
       "      <td>LGA</td>\n",
       "      <td>ATL</td>\n",
       "      <td>DL</td>\n",
       "      <td>19790</td>\n",
       "      <td>DL</td>\n",
       "    </tr>\n",
       "    <tr>\n",
       "      <th>3</th>\n",
       "      <td>LGA</td>\n",
       "      <td>ATL</td>\n",
       "      <td>DL</td>\n",
       "      <td>19790</td>\n",
       "      <td>DL</td>\n",
       "    </tr>\n",
       "    <tr>\n",
       "      <th>4</th>\n",
       "      <td>LGA</td>\n",
       "      <td>ATL</td>\n",
       "      <td>DL</td>\n",
       "      <td>19790</td>\n",
       "      <td>DL</td>\n",
       "    </tr>\n",
       "  </tbody>\n",
       "</table>\n",
       "</div>"
      ],
      "text/plain": [
       "  Origin Dest UniqueCarrier  AirlineID Carrier\n",
       "0    LGA  ATL            DL      19790      DL\n",
       "1    LGA  ATL            DL      19790      DL\n",
       "2    LGA  ATL            DL      19790      DL\n",
       "3    LGA  ATL            DL      19790      DL\n",
       "4    LGA  ATL            DL      19790      DL"
      ]
     },
     "execution_count": 12,
     "metadata": {},
     "output_type": "execute_result"
    }
   ],
   "source": [
    "twenty_only=twenty_routes.drop('Count', axis=1)\n",
    "data_toproutes= pd.merge(data_full, twenty_only, how='inner', on=['Origin','Dest'])\n",
    "data_toproutes[['Origin','Dest','UniqueCarrier','AirlineID','Carrier']].head()\n"
   ]
  },
  {
   "cell_type": "code",
   "execution_count": 13,
   "metadata": {
    "collapsed": false
   },
   "outputs": [
    {
     "name": "stdout",
     "output_type": "stream",
     "text": [
      "['DL' 'WN' 'FL' 'EV' 'MQ' 'F9' 'NK' 'B6' 'US' 'HA' 'AA' 'VX' 'UA' 'OO']\n",
      "[19790 19393 20437 20366 20398 20436 20416 20409 20355 19690 19805 21171\n",
      " 19977 20304]\n"
     ]
    }
   ],
   "source": [
    "print data_toproutes.UniqueCarrier.unique()\n",
    "print data_toproutes.AirlineID.unique()"
   ]
  },
  {
   "cell_type": "markdown",
   "metadata": {},
   "source": [
    "####iii. Get the full names for each of these airlines"
   ]
  },
  {
   "cell_type": "code",
   "execution_count": 14,
   "metadata": {
    "collapsed": false
   },
   "outputs": [
    {
     "name": "stdout",
     "output_type": "stream",
     "text": [
      "['Delta Air Lines Inc.' 'Southwest Airlines Co.'\n",
      " 'AirTran Airways Corporation' 'ExpressJet Airlines Inc.' 'Envoy Air'\n",
      " 'Frontier Airlines Inc.' 'Spirit Air Lines' 'JetBlue Airways'\n",
      " 'US Airways Inc.' 'Hawaiian Airlines Inc.' 'American Airlines Inc.'\n",
      " 'Virgin America' 'United Air Lines Inc.' 'SkyWest Airlines Inc.']\n"
     ]
    }
   ],
   "source": [
    "print data_toproutes.Description.unique()"
   ]
  },
  {
   "cell_type": "markdown",
   "metadata": {},
   "source": [
    "### 3. Map flights operated by regional carriers\n",
    "####The 3 major regional carriers are ExpressJet Airlines Inc., Envoy Air, and SkyWest Airlines Inc. I adopt FiveThiryEight's treatment and mapping of these:\n",
    "\n",
    "    Envoy Air assigned to American Airlines\n",
    "    \n",
    "    \"ExpressJet flight numbers are assigned as follows:\n",
    "        Flight numbers 2500-2574 to American\n",
    "        Flight numbers 3255-4868 to United\n",
    "        Flight numbers 4869-5632 to Delta\n",
    "        Flight numbers 5660-6189 to United\n",
    "        And SkyWest flight numbers are assigned as follows:\n",
    "\n",
    "        Flight numbers 2575-2649 to American\n",
    "        Flight numbers 2901-2974 to US Airways\n",
    "        Flight numbers 3448-3499 to Alaska\n",
    "        Flight numbers 4438-4859 to Delta\n",
    "        Flight numbers 4965-6539 to United\n",
    "        Flight numbers 6550-6629 to US Airways\n",
    "        Flight numbers 7362-7439 to Delta\n",
    "        Flight numbers outside these ranges may represent irregular operations and are discarded. \"\n",
    "Source: http://fivethirtyeight.com/features/fastest-airlines-fastest-airports/ "
   ]
  },
  {
   "cell_type": "code",
   "execution_count": 15,
   "metadata": {
    "collapsed": false
   },
   "outputs": [
    {
     "data": {
      "text/html": [
       "<div>\n",
       "<table border=\"1\" class=\"dataframe\">\n",
       "  <thead>\n",
       "    <tr style=\"text-align: right;\">\n",
       "      <th></th>\n",
       "      <th>FlightNum</th>\n",
       "      <th>Description</th>\n",
       "      <th>AirlineID</th>\n",
       "      <th>UniqueCarrier</th>\n",
       "    </tr>\n",
       "  </thead>\n",
       "  <tbody>\n",
       "    <tr>\n",
       "      <th>2842</th>\n",
       "      <td>5621</td>\n",
       "      <td>ExpressJet Airlines Inc.</td>\n",
       "      <td>20366</td>\n",
       "      <td>EV</td>\n",
       "    </tr>\n",
       "    <tr>\n",
       "      <th>5081</th>\n",
       "      <td>3682</td>\n",
       "      <td>Envoy Air</td>\n",
       "      <td>20398</td>\n",
       "      <td>MQ</td>\n",
       "    </tr>\n",
       "    <tr>\n",
       "      <th>5082</th>\n",
       "      <td>3682</td>\n",
       "      <td>Envoy Air</td>\n",
       "      <td>20398</td>\n",
       "      <td>MQ</td>\n",
       "    </tr>\n",
       "    <tr>\n",
       "      <th>5083</th>\n",
       "      <td>3682</td>\n",
       "      <td>Envoy Air</td>\n",
       "      <td>20398</td>\n",
       "      <td>MQ</td>\n",
       "    </tr>\n",
       "    <tr>\n",
       "      <th>5084</th>\n",
       "      <td>3682</td>\n",
       "      <td>Envoy Air</td>\n",
       "      <td>20398</td>\n",
       "      <td>MQ</td>\n",
       "    </tr>\n",
       "  </tbody>\n",
       "</table>\n",
       "</div>"
      ],
      "text/plain": [
       "      FlightNum               Description  AirlineID UniqueCarrier\n",
       "2842       5621  ExpressJet Airlines Inc.      20366            EV\n",
       "5081       3682                 Envoy Air      20398            MQ\n",
       "5082       3682                 Envoy Air      20398            MQ\n",
       "5083       3682                 Envoy Air      20398            MQ\n",
       "5084       3682                 Envoy Air      20398            MQ"
      ]
     },
     "execution_count": 15,
     "metadata": {},
     "output_type": "execute_result"
    }
   ],
   "source": [
    "#Look at the flights that would be affected by this mapping change.\n",
    "subset = data_toproutes[data_toproutes['Description'].isin(['ExpressJet Airlines Inc.', 'SkyWest Airlines Inc.','Envoy Air'])]\n",
    "subset[['FlightNum', 'Description', 'AirlineID', 'UniqueCarrier']].head()"
   ]
  },
  {
   "cell_type": "code",
   "execution_count": 16,
   "metadata": {
    "collapsed": false
   },
   "outputs": [],
   "source": [
    "def map_airlines(x):\n",
    "    if x.Description == 'Envoy Air':\n",
    "        return 'American Airlines Inc.'\n",
    "    \n",
    "    elif x.Description == 'ExpressJet Airlines Inc.':\n",
    "        if 2500 >= x.FlightNum <= 2574 :\n",
    "            return 'American Airlines Inc.'\n",
    "        if 3255 >= x.FlightNum <= 4868 :\n",
    "            return 'United Air Lines Inc.'\n",
    "        if 4869 >= x.FlightNum <= 5632 :\n",
    "            return 'Delta Air Lines Inc.'\n",
    "        if 5660 >= x.FlightNum <= 6189 :\n",
    "            return 'United Air Lines Inc.'\n",
    "    \n",
    "    elif x.Description == 'SkyWest Airlines Inc.':\n",
    "        if  2575 >= x.FlightNum <= 2649 : \n",
    "            return 'American Airlines Inc.'\n",
    "        elif 2901 >= x.FlightNum <= 2974: \n",
    "            return 'US Airways Inc.'\n",
    "        elif 3448 >= x.FlightNum <= 3449:  \n",
    "            return 'Alaska Airlines Inc.'\n",
    "        elif 4438 >= x.FlightNum <= 4859:\n",
    "            return 'Delta Air Lines Inc.'\n",
    "        elif 4965 >= x.FlightNum <= 65439:\n",
    "            return 'United Air Lines Inc.'\n",
    "        elif 6550 >= x.FlightNum <= 6629:\n",
    "            return 'US Airways Inc.'\n",
    "        elif 7362 >= x.FlightNum <= 7439:\n",
    "            return 'Delta Air Lines Inc.'\n",
    "\n",
    "    return x.Description\n",
    "\n",
    "#Change the Description field according to the function map_airlines above.\n",
    "data_toproutes['Description'] = data_toproutes.apply(map_airlines, axis=1)"
   ]
  },
  {
   "cell_type": "code",
   "execution_count": 17,
   "metadata": {
    "collapsed": false
   },
   "outputs": [
    {
     "data": {
      "text/html": [
       "<div>\n",
       "<table border=\"1\" class=\"dataframe\">\n",
       "  <thead>\n",
       "    <tr style=\"text-align: right;\">\n",
       "      <th></th>\n",
       "      <th>Year</th>\n",
       "      <th>Quarter</th>\n",
       "      <th>Month</th>\n",
       "      <th>DayofMonth</th>\n",
       "      <th>DayOfWeek</th>\n",
       "      <th>FlightDate</th>\n",
       "      <th>UniqueCarrier</th>\n",
       "      <th>AirlineID</th>\n",
       "      <th>Carrier</th>\n",
       "      <th>TailNum</th>\n",
       "      <th>...</th>\n",
       "      <th>Div5WheelsOff</th>\n",
       "      <th>Div5TailNum</th>\n",
       "      <th>Unnamed: 109</th>\n",
       "      <th>Code</th>\n",
       "      <th>Description</th>\n",
       "      <th>Des_abbrev</th>\n",
       "      <th>lat_origin</th>\n",
       "      <th>lon_origin</th>\n",
       "      <th>lat_dest</th>\n",
       "      <th>lon_dest</th>\n",
       "    </tr>\n",
       "  </thead>\n",
       "  <tbody>\n",
       "  </tbody>\n",
       "</table>\n",
       "<p>0 rows × 117 columns</p>\n",
       "</div>"
      ],
      "text/plain": [
       "Empty DataFrame\n",
       "Columns: [Year, Quarter, Month, DayofMonth, DayOfWeek, FlightDate, UniqueCarrier, AirlineID, Carrier, TailNum, FlightNum, OriginAirportID, OriginAirportSeqID, OriginCityMarketID, Origin, OriginCityName, OriginState, OriginStateFips, OriginStateName, OriginWac, DestAirportID, DestAirportSeqID, DestCityMarketID, Dest, DestCityName, DestState, DestStateFips, DestStateName, DestWac, CRSDepTime, DepTime, DepDelay, DepDelayMinutes, DepDel15, DepartureDelayGroups, DepTimeBlk, TaxiOut, WheelsOff, WheelsOn, TaxiIn, CRSArrTime, ArrTime, ArrDelay, ArrDelayMinutes, ArrDel15, ArrivalDelayGroups, ArrTimeBlk, Cancelled, CancellationCode, Diverted, CRSElapsedTime, ActualElapsedTime, AirTime, Flights, Distance, DistanceGroup, CarrierDelay, WeatherDelay, NASDelay, SecurityDelay, LateAircraftDelay, FirstDepTime, TotalAddGTime, LongestAddGTime, DivAirportLandings, DivReachedDest, DivActualElapsedTime, DivArrDelay, DivDistance, Div1Airport, Div1AirportID, Div1AirportSeqID, Div1WheelsOn, Div1TotalGTime, Div1LongestGTime, Div1WheelsOff, Div1TailNum, Div2Airport, Div2AirportID, Div2AirportSeqID, Div2WheelsOn, Div2TotalGTime, Div2LongestGTime, Div2WheelsOff, Div2TailNum, Div3Airport, Div3AirportID, Div3AirportSeqID, Div3WheelsOn, Div3TotalGTime, Div3LongestGTime, Div3WheelsOff, Div3TailNum, Div4Airport, Div4AirportID, Div4AirportSeqID, Div4WheelsOn, Div4TotalGTime, Div4LongestGTime, Div4WheelsOff, ...]\n",
       "Index: []\n",
       "\n",
       "[0 rows x 117 columns]"
      ]
     },
     "execution_count": 17,
     "metadata": {},
     "output_type": "execute_result"
    }
   ],
   "source": [
    "#Look at the observations that were changed\n",
    "subset_changed = data_toproutes[ (data_toproutes.UniqueCarrier == 'OO') | (data_toproutes.UniqueCarrier == 'MQ') | (data_toproutes.UniqueCarrier == 'EV')]\n",
    "subset_changed[['FlightNum', 'Description', 'AirlineID', 'UniqueCarrier']]\n",
    "\n",
    "#Look to see if all descriptions were changed for the regional carriers.\n",
    "data_toproutes[(data_toproutes.Description == 'ExpressJet Airlines Inc.') \n",
    "                         | (data_toproutes.Description == 'Envoy Air' )\n",
    "                         | (data_toproutes.Description == 'SkyWest Airlines Inc.' )].head()"
   ]
  },
  {
   "cell_type": "code",
   "execution_count": 18,
   "metadata": {
    "collapsed": false
   },
   "outputs": [
    {
     "name": "stdout",
     "output_type": "stream",
     "text": [
      "['Delta Air Lines Inc.' 'Southwest Airlines Co.'\n",
      " 'AirTran Airways Corporation' 'United Air Lines Inc.'\n",
      " 'American Airlines Inc.' 'Frontier Airlines Inc.' 'Spirit Air Lines'\n",
      " 'JetBlue Airways' 'US Airways Inc.' 'Hawaiian Airlines Inc.'\n",
      " 'Virgin America']\n"
     ]
    }
   ],
   "source": [
    "#Now look at what airlines are in the dataset:\n",
    "print data_toproutes.Description.unique()"
   ]
  },
  {
   "cell_type": "code",
   "execution_count": 19,
   "metadata": {
    "collapsed": false
   },
   "outputs": [
    {
     "data": {
      "text/plain": [
       "200880"
      ]
     },
     "execution_count": 19,
     "metadata": {},
     "output_type": "execute_result"
    }
   ],
   "source": [
    "#Check how many flights are in the dataset.\n",
    "len(data_toproutes)"
   ]
  },
  {
   "cell_type": "code",
   "execution_count": 20,
   "metadata": {
    "collapsed": true
   },
   "outputs": [],
   "source": [
    "#Remove the flights that remain as being operated by regional air carriers, \n",
    "#since it is not possible to map these to the actual airlines that passengers booked their tickets with.\n",
    "data_toproutes = data_toproutes[~data_toproutes['Description'].isin(['ExpressJet Airlines Inc.', 'SkyWest Airlines Inc.','Envoy Air'])]"
   ]
  },
  {
   "cell_type": "code",
   "execution_count": 21,
   "metadata": {
    "collapsed": false
   },
   "outputs": [
    {
     "data": {
      "text/plain": [
       "200880"
      ]
     },
     "execution_count": 21,
     "metadata": {},
     "output_type": "execute_result"
    }
   ],
   "source": [
    "#Check how many flights are in the dataset after removing.\n",
    "len(data_toproutes)"
   ]
  },
  {
   "cell_type": "markdown",
   "metadata": {
    "collapsed": false
   },
   "source": [
    "###4. Calculate Target Time \n",
    "#### Target time is based on the distance between the two airports, the east-west distance (to account for jet stream) and an added 43.2 minutes for taxi before take-off and after landing. \n",
    "#### Methodology adopted from FiveThirtyEight. For details see: http://fivethirtyeight.com/features/how-we-found-the-fastest-flights/#fn-2"
   ]
  },
  {
   "cell_type": "markdown",
   "metadata": {},
   "source": [
    "####i. Calculate Target Time for each route"
   ]
  },
  {
   "cell_type": "code",
   "execution_count": 22,
   "metadata": {
    "collapsed": false
   },
   "outputs": [
    {
     "data": {
      "text/html": [
       "<div>\n",
       "<table border=\"1\" class=\"dataframe\">\n",
       "  <thead>\n",
       "    <tr style=\"text-align: right;\">\n",
       "      <th></th>\n",
       "      <th>CRSDepTime</th>\n",
       "      <th>DepTime</th>\n",
       "      <th>DepTimeBlk</th>\n",
       "      <th>CRSArrTime</th>\n",
       "      <th>ArrTime</th>\n",
       "      <th>CRSElapsedTime</th>\n",
       "      <th>ActualElapsedTime</th>\n",
       "    </tr>\n",
       "  </thead>\n",
       "  <tbody>\n",
       "    <tr>\n",
       "      <th>0</th>\n",
       "      <td>1700</td>\n",
       "      <td>1713</td>\n",
       "      <td>1700-1759</td>\n",
       "      <td>1933</td>\n",
       "      <td>1947</td>\n",
       "      <td>153</td>\n",
       "      <td>154</td>\n",
       "    </tr>\n",
       "    <tr>\n",
       "      <th>1</th>\n",
       "      <td>1300</td>\n",
       "      <td>1254</td>\n",
       "      <td>1300-1359</td>\n",
       "      <td>1532</td>\n",
       "      <td>1516</td>\n",
       "      <td>152</td>\n",
       "      <td>142</td>\n",
       "    </tr>\n",
       "    <tr>\n",
       "      <th>2</th>\n",
       "      <td>1600</td>\n",
       "      <td>1558</td>\n",
       "      <td>1600-1659</td>\n",
       "      <td>1836</td>\n",
       "      <td>1825</td>\n",
       "      <td>156</td>\n",
       "      <td>147</td>\n",
       "    </tr>\n",
       "    <tr>\n",
       "      <th>3</th>\n",
       "      <td>600</td>\n",
       "      <td>557</td>\n",
       "      <td>0600-0659</td>\n",
       "      <td>825</td>\n",
       "      <td>820</td>\n",
       "      <td>145</td>\n",
       "      <td>143</td>\n",
       "    </tr>\n",
       "    <tr>\n",
       "      <th>4</th>\n",
       "      <td>1859</td>\n",
       "      <td>1859</td>\n",
       "      <td>1800-1859</td>\n",
       "      <td>2127</td>\n",
       "      <td>2117</td>\n",
       "      <td>148</td>\n",
       "      <td>138</td>\n",
       "    </tr>\n",
       "  </tbody>\n",
       "</table>\n",
       "</div>"
      ],
      "text/plain": [
       "   CRSDepTime  DepTime DepTimeBlk  CRSArrTime  ArrTime  CRSElapsedTime  \\\n",
       "0        1700     1713  1700-1759        1933     1947             153   \n",
       "1        1300     1254  1300-1359        1532     1516             152   \n",
       "2        1600     1558  1600-1659        1836     1825             156   \n",
       "3         600      557  0600-0659         825      820             145   \n",
       "4        1859     1859  1800-1859        2127     2117             148   \n",
       "\n",
       "   ActualElapsedTime  \n",
       "0                154  \n",
       "1                142  \n",
       "2                147  \n",
       "3                143  \n",
       "4                138  "
      ]
     },
     "execution_count": 22,
     "metadata": {},
     "output_type": "execute_result"
    }
   ],
   "source": [
    "#Look at the different departure and arrival time variables to see how they differ.\n",
    "data_toproutes[['CRSDepTime','DepTime', 'DepTimeBlk' ,'CRSArrTime','ArrTime', 'CRSElapsedTime','ActualElapsedTime']].head()"
   ]
  },
  {
   "cell_type": "code",
   "execution_count": 23,
   "metadata": {
    "collapsed": false
   },
   "outputs": [],
   "source": [
    "#Calculate Target Time based on methodology from FiveThirtyEight\n",
    "data_toproutes['target_time']=.117*data_toproutes.Distance + .517*(data_toproutes.lon_origin-data_toproutes.lon_dest) + 43.2"
   ]
  },
  {
   "cell_type": "markdown",
   "metadata": {},
   "source": [
    "#### Sanity check the Target Time for flights SFO-LAX. According to FiveThirtyEight the Target Time should be 1 hour and 19 minutes."
   ]
  },
  {
   "cell_type": "code",
   "execution_count": 24,
   "metadata": {
    "collapsed": false
   },
   "outputs": [
    {
     "data": {
      "text/html": [
       "<div>\n",
       "<table border=\"1\" class=\"dataframe\">\n",
       "  <thead>\n",
       "    <tr style=\"text-align: right;\">\n",
       "      <th></th>\n",
       "      <th>Year</th>\n",
       "      <th>Quarter</th>\n",
       "      <th>Month</th>\n",
       "      <th>DayofMonth</th>\n",
       "      <th>DayOfWeek</th>\n",
       "      <th>FlightDate</th>\n",
       "      <th>UniqueCarrier</th>\n",
       "      <th>AirlineID</th>\n",
       "      <th>Carrier</th>\n",
       "      <th>TailNum</th>\n",
       "      <th>...</th>\n",
       "      <th>Div5TailNum</th>\n",
       "      <th>Unnamed: 109</th>\n",
       "      <th>Code</th>\n",
       "      <th>Description</th>\n",
       "      <th>Des_abbrev</th>\n",
       "      <th>lat_origin</th>\n",
       "      <th>lon_origin</th>\n",
       "      <th>lat_dest</th>\n",
       "      <th>lon_dest</th>\n",
       "      <th>target_time</th>\n",
       "    </tr>\n",
       "  </thead>\n",
       "  <tbody>\n",
       "    <tr>\n",
       "      <th>109910</th>\n",
       "      <td>2014</td>\n",
       "      <td>2</td>\n",
       "      <td>6</td>\n",
       "      <td>1</td>\n",
       "      <td>7</td>\n",
       "      <td>2014-06-01</td>\n",
       "      <td>AA</td>\n",
       "      <td>19805</td>\n",
       "      <td>AA</td>\n",
       "      <td>N3ENAA</td>\n",
       "      <td>...</td>\n",
       "      <td>NaN</td>\n",
       "      <td>NaN</td>\n",
       "      <td>19805</td>\n",
       "      <td>American Airlines Inc.</td>\n",
       "      <td>AA</td>\n",
       "      <td>37.618972</td>\n",
       "      <td>-122.374889</td>\n",
       "      <td>33.942536</td>\n",
       "      <td>-118.408075</td>\n",
       "      <td>80.578157</td>\n",
       "    </tr>\n",
       "    <tr>\n",
       "      <th>109911</th>\n",
       "      <td>2014</td>\n",
       "      <td>2</td>\n",
       "      <td>6</td>\n",
       "      <td>2</td>\n",
       "      <td>1</td>\n",
       "      <td>2014-06-02</td>\n",
       "      <td>AA</td>\n",
       "      <td>19805</td>\n",
       "      <td>AA</td>\n",
       "      <td>N3LLAA</td>\n",
       "      <td>...</td>\n",
       "      <td>NaN</td>\n",
       "      <td>NaN</td>\n",
       "      <td>19805</td>\n",
       "      <td>American Airlines Inc.</td>\n",
       "      <td>AA</td>\n",
       "      <td>37.618972</td>\n",
       "      <td>-122.374889</td>\n",
       "      <td>33.942536</td>\n",
       "      <td>-118.408075</td>\n",
       "      <td>80.578157</td>\n",
       "    </tr>\n",
       "    <tr>\n",
       "      <th>109912</th>\n",
       "      <td>2014</td>\n",
       "      <td>2</td>\n",
       "      <td>6</td>\n",
       "      <td>3</td>\n",
       "      <td>2</td>\n",
       "      <td>2014-06-03</td>\n",
       "      <td>AA</td>\n",
       "      <td>19805</td>\n",
       "      <td>AA</td>\n",
       "      <td>N3BGAA</td>\n",
       "      <td>...</td>\n",
       "      <td>NaN</td>\n",
       "      <td>NaN</td>\n",
       "      <td>19805</td>\n",
       "      <td>American Airlines Inc.</td>\n",
       "      <td>AA</td>\n",
       "      <td>37.618972</td>\n",
       "      <td>-122.374889</td>\n",
       "      <td>33.942536</td>\n",
       "      <td>-118.408075</td>\n",
       "      <td>80.578157</td>\n",
       "    </tr>\n",
       "    <tr>\n",
       "      <th>109913</th>\n",
       "      <td>2014</td>\n",
       "      <td>2</td>\n",
       "      <td>6</td>\n",
       "      <td>4</td>\n",
       "      <td>3</td>\n",
       "      <td>2014-06-04</td>\n",
       "      <td>AA</td>\n",
       "      <td>19805</td>\n",
       "      <td>AA</td>\n",
       "      <td>N3ASAA</td>\n",
       "      <td>...</td>\n",
       "      <td>NaN</td>\n",
       "      <td>NaN</td>\n",
       "      <td>19805</td>\n",
       "      <td>American Airlines Inc.</td>\n",
       "      <td>AA</td>\n",
       "      <td>37.618972</td>\n",
       "      <td>-122.374889</td>\n",
       "      <td>33.942536</td>\n",
       "      <td>-118.408075</td>\n",
       "      <td>80.578157</td>\n",
       "    </tr>\n",
       "    <tr>\n",
       "      <th>109914</th>\n",
       "      <td>2014</td>\n",
       "      <td>2</td>\n",
       "      <td>6</td>\n",
       "      <td>5</td>\n",
       "      <td>4</td>\n",
       "      <td>2014-06-05</td>\n",
       "      <td>AA</td>\n",
       "      <td>19805</td>\n",
       "      <td>AA</td>\n",
       "      <td>N3HBAA</td>\n",
       "      <td>...</td>\n",
       "      <td>NaN</td>\n",
       "      <td>NaN</td>\n",
       "      <td>19805</td>\n",
       "      <td>American Airlines Inc.</td>\n",
       "      <td>AA</td>\n",
       "      <td>37.618972</td>\n",
       "      <td>-122.374889</td>\n",
       "      <td>33.942536</td>\n",
       "      <td>-118.408075</td>\n",
       "      <td>80.578157</td>\n",
       "    </tr>\n",
       "  </tbody>\n",
       "</table>\n",
       "<p>5 rows × 118 columns</p>\n",
       "</div>"
      ],
      "text/plain": [
       "        Year  Quarter  Month  DayofMonth  DayOfWeek  FlightDate UniqueCarrier  \\\n",
       "109910  2014        2      6           1          7  2014-06-01            AA   \n",
       "109911  2014        2      6           2          1  2014-06-02            AA   \n",
       "109912  2014        2      6           3          2  2014-06-03            AA   \n",
       "109913  2014        2      6           4          3  2014-06-04            AA   \n",
       "109914  2014        2      6           5          4  2014-06-05            AA   \n",
       "\n",
       "        AirlineID Carrier TailNum     ...       Div5TailNum  Unnamed: 109  \\\n",
       "109910      19805      AA  N3ENAA     ...               NaN           NaN   \n",
       "109911      19805      AA  N3LLAA     ...               NaN           NaN   \n",
       "109912      19805      AA  N3BGAA     ...               NaN           NaN   \n",
       "109913      19805      AA  N3ASAA     ...               NaN           NaN   \n",
       "109914      19805      AA  N3HBAA     ...               NaN           NaN   \n",
       "\n",
       "         Code             Description Des_abbrev lat_origin  lon_origin  \\\n",
       "109910  19805  American Airlines Inc.         AA  37.618972 -122.374889   \n",
       "109911  19805  American Airlines Inc.         AA  37.618972 -122.374889   \n",
       "109912  19805  American Airlines Inc.         AA  37.618972 -122.374889   \n",
       "109913  19805  American Airlines Inc.         AA  37.618972 -122.374889   \n",
       "109914  19805  American Airlines Inc.         AA  37.618972 -122.374889   \n",
       "\n",
       "         lat_dest    lon_dest  target_time  \n",
       "109910  33.942536 -118.408075    80.578157  \n",
       "109911  33.942536 -118.408075    80.578157  \n",
       "109912  33.942536 -118.408075    80.578157  \n",
       "109913  33.942536 -118.408075    80.578157  \n",
       "109914  33.942536 -118.408075    80.578157  \n",
       "\n",
       "[5 rows x 118 columns]"
      ]
     },
     "execution_count": 24,
     "metadata": {},
     "output_type": "execute_result"
    }
   ],
   "source": [
    "data_toproutes[(data_toproutes['Origin']=='SFO') & (data_toproutes['Dest']=='LAX')].head()"
   ]
  },
  {
   "cell_type": "markdown",
   "metadata": {
    "collapsed": true
   },
   "source": [
    "###5. Calculate Time Difference as the difference between the Actual time a flight took and the target time. \n",
    "#### I do not use the ActualElapsedTime variable because it is defined as time from leaving gate to time of arrival at the gate at the destination. This would not account for a flight that is delayed at the departure gate. To get the time from the scheduled departure to the time of the arrival at the gate at the destination I add _DepDelay_. Note that _DepDelay_ can be both negative and positive, meaning it will take into account for both times when the aircraft left the gate earlier than scheduled and later than scheduled. \n",
    "####This results in Travel time being measured from the originally scheduled departure time — the one listed on your ticket when you book the flight — until the plane pulls up at the gate at the destination airport"
   ]
  },
  {
   "cell_type": "code",
   "execution_count": 25,
   "metadata": {
    "collapsed": false,
    "scrolled": true
   },
   "outputs": [
    {
     "data": {
      "text/html": [
       "<div>\n",
       "<table border=\"1\" class=\"dataframe\">\n",
       "  <thead>\n",
       "    <tr style=\"text-align: right;\">\n",
       "      <th></th>\n",
       "      <th>Time_Diff</th>\n",
       "      <th>ActualElapsedTime</th>\n",
       "      <th>DepDelay</th>\n",
       "      <th>target_time</th>\n",
       "    </tr>\n",
       "  </thead>\n",
       "  <tbody>\n",
       "    <tr>\n",
       "      <th>0</th>\n",
       "      <td>29.188828</td>\n",
       "      <td>154</td>\n",
       "      <td>13</td>\n",
       "      <td>137.811172</td>\n",
       "    </tr>\n",
       "    <tr>\n",
       "      <th>1</th>\n",
       "      <td>-1.811172</td>\n",
       "      <td>142</td>\n",
       "      <td>-6</td>\n",
       "      <td>137.811172</td>\n",
       "    </tr>\n",
       "    <tr>\n",
       "      <th>2</th>\n",
       "      <td>7.188828</td>\n",
       "      <td>147</td>\n",
       "      <td>-2</td>\n",
       "      <td>137.811172</td>\n",
       "    </tr>\n",
       "    <tr>\n",
       "      <th>3</th>\n",
       "      <td>2.188828</td>\n",
       "      <td>143</td>\n",
       "      <td>-3</td>\n",
       "      <td>137.811172</td>\n",
       "    </tr>\n",
       "    <tr>\n",
       "      <th>4</th>\n",
       "      <td>0.188828</td>\n",
       "      <td>138</td>\n",
       "      <td>0</td>\n",
       "      <td>137.811172</td>\n",
       "    </tr>\n",
       "  </tbody>\n",
       "</table>\n",
       "</div>"
      ],
      "text/plain": [
       "   Time_Diff  ActualElapsedTime  DepDelay  target_time\n",
       "0  29.188828                154        13   137.811172\n",
       "1  -1.811172                142        -6   137.811172\n",
       "2   7.188828                147        -2   137.811172\n",
       "3   2.188828                143        -3   137.811172\n",
       "4   0.188828                138         0   137.811172"
      ]
     },
     "execution_count": 25,
     "metadata": {},
     "output_type": "execute_result"
    }
   ],
   "source": [
    "data_toproutes['Time_Diff']=(data_toproutes['ActualElapsedTime'] + data_toproutes['DepDelay']-data_toproutes['target_time'])\n",
    "data_toproutes[['Time_Diff','ActualElapsedTime','DepDelay','target_time']].head()"
   ]
  },
  {
   "cell_type": "markdown",
   "metadata": {},
   "source": [
    "#### Get summary stats for the Time Diff variable. "
   ]
  },
  {
   "cell_type": "code",
   "execution_count": 26,
   "metadata": {
    "collapsed": false
   },
   "outputs": [
    {
     "data": {
      "text/plain": [
       "count    197048.000000\n",
       "mean         11.943984\n",
       "std          41.239886\n",
       "min         -53.848271\n",
       "25%          -9.855439\n",
       "50%           1.522171\n",
       "75%          19.504738\n",
       "max        1770.362113\n",
       "Name: Time_Diff, dtype: float64"
      ]
     },
     "execution_count": 26,
     "metadata": {},
     "output_type": "execute_result"
    }
   ],
   "source": [
    "data_toproutes.Time_Diff.describe()"
   ]
  },
  {
   "cell_type": "code",
   "execution_count": null,
   "metadata": {
    "collapsed": false
   },
   "outputs": [],
   "source": [
    "data_forhist = data_toproutes[~data_toproutes['Time_Diff'].isnull()]\n",
    "plt.hist(data_forhist['Time_Diff'], bins=100)\n",
    "plt.title(\"Time Difference between Actual and Target Time\")\n",
    "plt.xlabel(\"Actual Time (relative to Target)\")\n",
    "plt.ylabel(\"Frequency\")\n",
    "plt.xlim([-100,300]) # set the xlim to xmin, xmax  \n",
    "plt.show()\n"
   ]
  },
  {
   "cell_type": "markdown",
   "metadata": {},
   "source": [
    "###6. Remove outliers by counting only flights that arrived at their destination without a diversion. \n",
    "####i. Remove cancelled and diverted flights. I am interested in seeing how baggage fees may affect 'regular delays', and not the more extreme cases."
   ]
  },
  {
   "cell_type": "code",
   "execution_count": null,
   "metadata": {
    "collapsed": false
   },
   "outputs": [],
   "source": [
    "#Check how many flights are in the dataset.\n",
    "len(data_toproutes)"
   ]
  },
  {
   "cell_type": "code",
   "execution_count": null,
   "metadata": {
    "collapsed": false
   },
   "outputs": [],
   "source": [
    "data_toproutes=data_toproutes[(data_toproutes['Cancelled']!=1)]\n",
    "arrived_toproutes=data_toproutes[(data_toproutes['Diverted']!=1)]\n"
   ]
  },
  {
   "cell_type": "code",
   "execution_count": null,
   "metadata": {
    "collapsed": false
   },
   "outputs": [],
   "source": [
    "#Check how many flights are in the dataset after removing the cancelled and diverted flights.\n",
    "len(data_toproutes)"
   ]
  },
  {
   "cell_type": "code",
   "execution_count": null,
   "metadata": {
    "collapsed": false
   },
   "outputs": [],
   "source": [
    "#List the column headers in the dataset to see what variables are associated with diversion \n",
    "#and can be deleted since they will no longer be applicable.\n",
    "list(arrived_toproutes) "
   ]
  },
  {
   "cell_type": "code",
   "execution_count": null,
   "metadata": {
    "collapsed": false
   },
   "outputs": [],
   "source": [
    "#Remove the columns that are irrelevant\n",
    "arrived_toproutes.divcolumns = arrived_toproutes.loc[:,'DivAirportLandings':'Div5TailNum' ] #Create an object for the columns that can be removed\n",
    "arrived_toproutes.drop(arrived_toproutes.divcolumns, axis=1, inplace=True) \n"
   ]
  },
  {
   "cell_type": "code",
   "execution_count": null,
   "metadata": {
    "collapsed": false
   },
   "outputs": [],
   "source": [
    "list(arrived_toproutes) "
   ]
  },
  {
   "cell_type": "markdown",
   "metadata": {},
   "source": [
    "####ii. Do some data exploration to see how target time relates to the actual Travel Time"
   ]
  },
  {
   "cell_type": "code",
   "execution_count": null,
   "metadata": {
    "collapsed": false
   },
   "outputs": [],
   "source": [
    "#Do some exploration and look at the most delayed flights.\n",
    "data_route_sorted= data_toproutes.sort('Time_Diff', axis=0 , ascending=False)\n",
    "super_late = data_route_sorted.head(10)\n",
    "super_late[['Year','Month','Carrier','DepDelay',\n",
    "            \"Origin\", 'Dest',\n",
    "            'CarrierDelay','WeatherDelay','NASDelay','SecurityDelay','LateAircraftDelay',\n",
    "            'ActualElapsedTime','ArrDelay','ArrDelayMinutes','ArrDel15','ArrivalDelayGroups',\n",
    "            'Origin','Dest','target_time','Time_Diff']]"
   ]
  },
  {
   "cell_type": "code",
   "execution_count": null,
   "metadata": {
    "collapsed": false
   },
   "outputs": [],
   "source": [
    "data_delay_sorted= data_toproutes.sort('DepDelay', axis=0 , ascending=False)\n",
    "super_delay = data_delay_sorted[(data_delay_sorted['DepDelay'] > 100)]\n",
    "super_delay[['Year','Month','Carrier','DepDelay',\n",
    "            'CarrierDelay','WeatherDelay','NASDelay','SecurityDelay','LateAircraftDelay',\n",
    "            'ActualElapsedTime','ArrDelay','ArrDelayMinutes','ArrDel15','ArrivalDelayGroups',\n",
    "            'Origin','Dest','target_time','Time_Diff']].head(10)"
   ]
  },
  {
   "cell_type": "code",
   "execution_count": null,
   "metadata": {
    "collapsed": false
   },
   "outputs": [],
   "source": [
    "#Plot Target Times against Travel Times (the time from the scheduled departure to the time of arriving at \n",
    "#the gate at the destination). \n",
    "%matplotlib inline\n",
    "data_toproutes['travel_time']=(data_toproutes['ActualElapsedTime'] + data_toproutes['DepDelay'])\n",
    "g = sns.FacetGrid(data_toproutes, col=\"Description\", hue=\"Month\",col_wrap=3,ylim=(0, 2000))\n",
    "g.map(plt.scatter, \"target_time\", \"travel_time\")\n",
    "g.add_legend();\n"
   ]
  },
  {
   "cell_type": "code",
   "execution_count": null,
   "metadata": {
    "collapsed": false
   },
   "outputs": [],
   "source": [
    "airline_routes=data_toproutes[[\"Origin\", \"Dest\", \"Description\",\"travel_time\"]]\n",
    "grouped =airline_routes.groupby([\"Description\",\"Origin\", \"Dest\"])\n",
    "airline_times = grouped[\"travel_time\"].agg([np.size, np.mean, np.min, np.max]).reset_index()\n",
    "airline_times.rename(columns = {'size': 'N_Flights', 'mean': 'AverageTravelTime', 'amin' : 'MinElapsedTime', 'amax': 'MaxElapsedTime'}, inplace = True)\n",
    "airline_times.head()"
   ]
  },
  {
   "cell_type": "markdown",
   "metadata": {},
   "source": [
    "##C. Build the Multiple Linear Regression model"
   ]
  },
  {
   "cell_type": "markdown",
   "metadata": {},
   "source": [
    "###1. Prepare the features, which will be dummy variables for the origin airport, the destination airport, the airline and the existance of bag fees.\n",
    "\n",
    "   ####a. Create dummy variables for the airports and the airline"
   ]
  },
  {
   "cell_type": "code",
   "execution_count": null,
   "metadata": {
    "collapsed": false
   },
   "outputs": [],
   "source": [
    "for column in ['Origin', 'Dest','Description']: #Create dummy variables for these 3 categorical variables\n",
    "    dummies = pd.get_dummies(arrived_toproutes[column], prefix=column).iloc[:, 1:] #Remove one of the dummy variables to prevent collinearity\n",
    "    arrived_toproutes[dummies.columns] = dummies\n",
    "arrived_toproutes.head()\n"
   ]
  },
  {
   "cell_type": "code",
   "execution_count": null,
   "metadata": {
    "collapsed": false
   },
   "outputs": [],
   "source": [
    "arrived_toproutes.iloc[:,-25:].head()"
   ]
  },
  {
   "cell_type": "code",
   "execution_count": null,
   "metadata": {
    "collapsed": false
   },
   "outputs": [],
   "source": [
    "arrived_toproutes.head()\n"
   ]
  },
  {
   "cell_type": "markdown",
   "metadata": {},
   "source": [
    "###2. Run a base case regression on the full data set. "
   ]
  },
  {
   "cell_type": "code",
   "execution_count": null,
   "metadata": {
    "collapsed": false
   },
   "outputs": [],
   "source": [
    "#Separate the features and the outcome\n",
    "Base_case_data = arrived_toproutes.loc[:,'Time_Diff':]\n",
    "X = Base_case_data.iloc[:,1:-4]\n",
    "y = arrived_toproutes['Time_Diff']\n",
    "\n",
    "## fit a OLS model \n",
    "X = sm.add_constant(X)\n",
    "basereg = sm.OLS(y, X).fit()\n",
    "\n",
    "\n",
    "basereg.summary()"
   ]
  },
  {
   "cell_type": "code",
   "execution_count": null,
   "metadata": {
    "collapsed": false
   },
   "outputs": [],
   "source": [
    "y.mean()"
   ]
  },
  {
   "cell_type": "markdown",
   "metadata": {},
   "source": [
    "###3. Add baggage fees for select airlines.\n",
    "The data was collected manually from the following sources: \n",
    "    http://www.tripadvisor.com/AirlineFees \n",
    "    http://www.airfarewatchdog.com/blog/3801089/airline-baggage-fees-chart/\n",
    "Note: \n",
    "1. Jetblue started charging a fee for the 1st checked bag starting in June. For purposes of this analysis, I assume that their previous fees structure was in place. This is reasonable since the data only contains flights in two months after the change (July and August 2015) and seats on these flights could have been booked prior to the fee change. \n",
    "2. Spirit Airlines does not have a very transparent fee structure and they start charging overweight charges already at 40lbs. For this analysis, I adopt the fees (at check-in) summarized here: http://www.seatguru.com/airlines/Spirit_Airlines/baggage.php"
   ]
  },
  {
   "cell_type": "code",
   "execution_count": null,
   "metadata": {
    "collapsed": false
   },
   "outputs": [],
   "source": [
    "Airline_Fees = pd.read_csv(\"data/AIRLINE_FEES_man.csv\", skipinitialspace=True)\n",
    "Airline_Fees.head()\n",
    "arrived_toproutes= pd.merge(arrived_toproutes, Airline_Fees, how='left', on='Description')\n",
    "\n",
    "#Make sure data on bag fees are not missing for any of the airlines in our data set.\n",
    "arrived_toproutes[arrived_toproutes['Bag_1'].isnull()]\n",
    "\n",
    "#List the unique values for Bag_1.  \n",
    "arrived_toproutes.Bag_1.unique()\n",
    "\n"
   ]
  },
  {
   "cell_type": "code",
   "execution_count": null,
   "metadata": {
    "collapsed": true
   },
   "outputs": [],
   "source": [
    "#Remove the two other variables that came in the AIRLINE_FEES data set. \n",
    "arrived_toproutes.drop(['Code_y','Abbre'], axis=1, inplace=True)"
   ]
  },
  {
   "cell_type": "markdown",
   "metadata": {
    "collapsed": true
   },
   "source": [
    "####Create a dummy variable for the existence of a fee for checking the first bag. "
   ]
  },
  {
   "cell_type": "code",
   "execution_count": null,
   "metadata": {
    "collapsed": false
   },
   "outputs": [],
   "source": [
    "arrived_toproutes['Bag1_Dummy']=arrived_toproutes['Bag_1'].apply(lambda x: 1 if x > 0 else 0)"
   ]
  },
  {
   "cell_type": "code",
   "execution_count": null,
   "metadata": {
    "collapsed": false
   },
   "outputs": [],
   "source": [
    "\n",
    "arrived_toproutes.head()"
   ]
  },
  {
   "cell_type": "code",
   "execution_count": null,
   "metadata": {
    "collapsed": false
   },
   "outputs": [],
   "source": [
    "arrived_toproutes['Bag1_Dummy'].describe()"
   ]
  },
  {
   "cell_type": "markdown",
   "metadata": {},
   "source": [
    "###4. Run a regression adding the existence of a Bag Fee(on the first checked bag) as an added feature."
   ]
  },
  {
   "cell_type": "code",
   "execution_count": null,
   "metadata": {
    "collapsed": false
   },
   "outputs": [],
   "source": [
    "#Run a multiple linear regression model with the Bag dummy as an added feature for data across all months.\n",
    "all_regmdata = arrived_toproutes.loc[:,'Time_Diff':] \n",
    "all_regdata.drop(['Bag_1','Bag_2'], axis=1, inplace=True) #Remove the actual baggage fees, to only use the Bag1_dummy as a feature\n",
    "\n",
    "X = all_regdata.iloc[:,1:] #All data used for the regression will be found one column to the right of 'Time_Diff'\n",
    "y = arrived_toproutes['Time_Diff']\n",
    "\n",
    "X = sm.add_constant(X)\n",
    "est = sm.OLS(y, X).fit() #Fit the model\n",
    "    \n",
    "est.summary"
   ]
  },
  {
   "cell_type": "code",
   "execution_count": null,
   "metadata": {
    "collapsed": false
   },
   "outputs": [],
   "source": [
    "arrived_toproutes['Time_Diff'].describe()"
   ]
  },
  {
   "cell_type": "code",
   "execution_count": null,
   "metadata": {
    "collapsed": false
   },
   "outputs": [],
   "source": [
    "#Run a multiple linear regression model with the Bag dummy as an added feature for each month individually.\n",
    "monthvar = 1\n",
    "coeff_df = pd.DataFrame()\n",
    "tvalues_df = pd.DataFrame()\n",
    "s_error_df = pd.DataFrame()\n",
    "nobs_df = pd.DataFrame()\n",
    "pvalues_df = pd.DataFrame()\n",
    "\n",
    "while ( monthvar <= 12): \n",
    "    monthly_filter = arrived_toproutes [(arrived_toproutes['Month']==monthvar)]\n",
    "    monthly_regdata = monthly_filter.loc[:,'Time_Diff':] \n",
    "    monthly_regdata.drop(['Bag_1','Bag_2'], axis=1, inplace=True) #Remove the actual baggage fees, to only use the Bag1_dummy as a feature\n",
    "\n",
    "    X = monthly_regdata.iloc[:,1:] #All data used for the regression will be found one column to the right of 'Time_Diff'\n",
    "    y = monthly_filter['Time_Diff']\n",
    "    \n",
    "    X = sm.add_constant(X)\n",
    "    est = sm.OLS(y, X).fit() #Fit the model\n",
    "    \n",
    "    #Create a DataFrame with all the coefficients\n",
    "    coeff_new = est.params\n",
    "    coeff_df=coeff_df.append(coeff_new, ignore_index=True)\n",
    "    \n",
    "    #Create a DataFrame with all the T-Values\n",
    "    tvalues_new = est.tvalues\n",
    "    tvalues_df=tvalues_df.append(tvalues_new, ignore_index=True)\n",
    "    \n",
    "    #Create a DataFrame with all the Standard Errors\n",
    "    s_error_new = est.bse\n",
    "    s_error_df=s_error_df.append(s_error_new, ignore_index=True)\n",
    "    \n",
    "    #Create a DataFrame with all the P-values\n",
    "    pvalues_new = est.pvalues\n",
    "    pvalues_df=pvalues_df.append(pvalues_new, ignore_index=True)\n",
    "    \n",
    "    monthvar = monthvar + 1"
   ]
  },
  {
   "cell_type": "code",
   "execution_count": null,
   "metadata": {
    "collapsed": false
   },
   "outputs": [],
   "source": [
    "coeff_df\n",
    "\n"
   ]
  },
  {
   "cell_type": "code",
   "execution_count": null,
   "metadata": {
    "collapsed": false
   },
   "outputs": [],
   "source": [
    "pvalues_df"
   ]
  },
  {
   "cell_type": "code",
   "execution_count": null,
   "metadata": {
    "collapsed": false
   },
   "outputs": [],
   "source": [
    "#Combine the coefficients and pvalues for the bag1_dummy in one dataframe. \n",
    "Bag1_dum_results = pd.concat([coeff_df['Bag1_Dummy'], pvalues_df['Bag1_Dummy']], axis=1, ignore_index=False,)\n",
    "Bag1_dum_results.columns = ['Coeff', 'PValue']\n",
    "Bag1_dum_results"
   ]
  },
  {
   "cell_type": "markdown",
   "metadata": {
    "collapsed": false
   },
   "source": [
    "###5. Modify the dependent variable to be calculated without allowing early departures to subtract from the travel time. This is obtained by using the variable _DepDelayMinutes_ instead if _DepDelay_ (added to _ActualElapsedTime_)"
   ]
  },
  {
   "cell_type": "code",
   "execution_count": null,
   "metadata": {
    "collapsed": false
   },
   "outputs": [],
   "source": [
    "#Calculate the Time Difference according to a different methodology\n",
    "arrived_toproutes['Time_Diff_noearly'] = (data_toproutes['ActualElapsedTime'] \n",
    "                                          + data_toproutes['DepDelayMinutes']\n",
    "                                          - data_toproutes['target_time'])"
   ]
  },
  {
   "cell_type": "code",
   "execution_count": null,
   "metadata": {
    "collapsed": false
   },
   "outputs": [],
   "source": [
    "#Run a multiple linear regression model with the Bag dummy as an added feature, and with the new version of calculating the Time Difference\n",
    "#for data across all months.\n",
    "noearly_regdata = arrived_toproutes.loc[:,'Time_Diff':] \n",
    "noearly_regdata.drop(['Bag_1','Bag_2'], axis=1, inplace=True) #Remove the actual baggage fees, to only use the Bag1_dummy as a feature\n",
    "\n",
    "X = noearly_regdata.iloc[:,1:-1] #All data used for the regression will be found one column to the right of 'Time_Diff'\n",
    "y = arrived_toproutes['Time_Diff_noearly']\n",
    "    \n",
    "\n",
    "X = sm.add_constant(X)\n",
    "est = sm.OLS(y, X).fit() #Fit the model\n",
    "    \n",
    "est.summary"
   ]
  },
  {
   "cell_type": "code",
   "execution_count": null,
   "metadata": {
    "collapsed": false
   },
   "outputs": [],
   "source": [
    "#Run the multiple linear regression model again with the Bag dummy as an added feature. \n",
    "\n",
    "monthvar = 1\n",
    "coeff_df = pd.DataFrame()\n",
    "tvalues_df = pd.DataFrame()\n",
    "s_error_df = pd.DataFrame()\n",
    "nobs_df = pd.DataFrame()\n",
    "pvalues_df = pd.DataFrame()\n",
    "\n",
    "\n",
    "while ( monthvar <= 12): \n",
    "    monthly_filter = arrived_toproutes [(arrived_toproutes['Month']==monthvar  )]\n",
    "    monthly_filter = monthly_filter[pd.notnull(monthly_filter['Time_Diff_noearly'])]\n",
    "  \n",
    "    monthly_regdata = monthly_filter.loc[:,'Time_Diff':] \n",
    "    monthly_regdata.drop(['Bag_1','Bag_2'], axis=1, inplace=True) #Remove the actual baggage fees, to only use the Bag1_dummy as a feature\n",
    "\n",
    "    X = monthly_regdata.iloc[:,1:-1] #All data used for the regression will be found one column to the right of 'Time_Diff'\n",
    "    y = monthly_filter['Time_Diff_noearly']\n",
    "    \n",
    "    X = sm.add_constant(X)\n",
    "    est = sm.OLS(y, X).fit() #Fit the model\n",
    "    \n",
    "    #Create a DataFrame with all the coefficients\n",
    "    coeff_new = est.params\n",
    "    coeff_df=coeff_df.append(coeff_new, ignore_index=True)\n",
    "    \n",
    "    #Create a DataFrame with all the T-Values\n",
    "    tvalues_new = est.tvalues\n",
    "    tvalues_df=tvalues_df.append(tvalues_new, ignore_index=True)\n",
    "    \n",
    "    #Create a DataFrame with all the Standard Errors\n",
    "    s_error_new = est.bse\n",
    "    s_error_df=s_error_df.append(s_error_new, ignore_index=True)\n",
    "    \n",
    "    #Create a DataFrame with all the P-values\n",
    "    pvalues_new = est.pvalues\n",
    "    pvalues_df=pvalues_df.append(pvalues_new, ignore_index=True)\n",
    "    \n",
    "    monthvar = monthvar + 1"
   ]
  },
  {
   "cell_type": "code",
   "execution_count": null,
   "metadata": {
    "collapsed": false
   },
   "outputs": [],
   "source": [
    "arrived_toproutes['Time_Diff_noearly'].describe()\n",
    "#This new methodology increases the average Time Difference (as expected)\n"
   ]
  },
  {
   "cell_type": "code",
   "execution_count": null,
   "metadata": {
    "collapsed": false
   },
   "outputs": [],
   "source": [
    "coeff_df"
   ]
  },
  {
   "cell_type": "code",
   "execution_count": null,
   "metadata": {
    "collapsed": false
   },
   "outputs": [],
   "source": [
    "pvalues_df"
   ]
  },
  {
   "cell_type": "code",
   "execution_count": null,
   "metadata": {
    "collapsed": false
   },
   "outputs": [],
   "source": [
    "#Combine the coefficients and pvalues for the bag1_dummy in one dataframe. \n",
    "Bag1_noearly_results = pd.concat([coeff_df['Bag1_Dummy'], pvalues_df['Bag1_Dummy']], axis=1, ignore_index=False,)\n",
    "Bag1_noearly_results.columns = ['Coeff', 'PValue']\n",
    "Bag1_noearly_results "
   ]
  },
  {
   "cell_type": "code",
   "execution_count": null,
   "metadata": {
    "collapsed": true
   },
   "outputs": [],
   "source": []
  },
  {
   "cell_type": "markdown",
   "metadata": {
    "collapsed": true
   },
   "source": [
    "###6. Modify the dependent variable to be _DepDelayMinutes_."
   ]
  },
  {
   "cell_type": "code",
   "execution_count": null,
   "metadata": {
    "collapsed": false
   },
   "outputs": [],
   "source": [
    "#Run a multiple linear regression model with the Bag dummy as an added feature, and with the new version of calculating the Time Difference\n",
    "#for data across all months.\n",
    "Delay_regdata = arrived_toproutes.loc[:,'Time_Diff':] \n",
    "Delay_regdata.drop(['Bag_1','Bag_2'], axis=1, inplace=True) #Remove the actual baggage fees, to only use the Bag1_dummy as a feature\n",
    "\n",
    "X = Delay_regdata.iloc[:,1:-1] #All data used for the regression will be found one column to the right of 'Time_Diff'\n",
    "y = arrived_toproutes['DepDelayMinutes']\n",
    "    \n",
    "\n",
    "X = sm.add_constant(X)\n",
    "est = sm.OLS(y, X).fit() #Fit the model\n",
    "    \n",
    "est.summary"
   ]
  },
  {
   "cell_type": "code",
   "execution_count": null,
   "metadata": {
    "collapsed": true
   },
   "outputs": [],
   "source": [
    "#Run the multiple linear regression model again with the Bag dummy as an added feature. \n",
    "\n",
    "monthvar = 1\n",
    "coeff_df = pd.DataFrame()\n",
    "tvalues_df = pd.DataFrame()\n",
    "s_error_df = pd.DataFrame()\n",
    "nobs_df = pd.DataFrame()\n",
    "pvalues_df = pd.DataFrame()\n",
    "\n",
    "\n",
    "while ( monthvar <= 12): \n",
    "    monthly_filter = arrived_toproutes [(arrived_toproutes['Month']==monthvar  )]\n",
    "    monthly_filter = monthly_filter[pd.notnull(monthly_filter['DepDelayMinutes'])]\n",
    "  \n",
    "    monthly_regdata = monthly_filter.loc[:,'Time_Diff':] \n",
    "    monthly_regdata.drop(['Bag_1','Bag_2'], axis=1, inplace=True) #Remove the actual baggage fees, to only use the Bag1_dummy as a feature\n",
    "\n",
    "    X = monthly_regdata.iloc[:,1:-1] #All data used for the regression will be found one column to the right of 'Time_Diff'\n",
    "    y = monthly_filter['DepDelayMinutes']\n",
    "    \n",
    "    est = sm.OLS(y, X).fit() #Fit the model\n",
    "    \n",
    "    #Create a DataFrame with all the coefficients\n",
    "    coeff_new = est.params\n",
    "    coeff_df=coeff_df.append(coeff_new, ignore_index=True)\n",
    "    \n",
    "    #Create a DataFrame with all the T-Values\n",
    "    tvalues_new = est.tvalues\n",
    "    tvalues_df=tvalues_df.append(tvalues_new, ignore_index=True)\n",
    "    \n",
    "    #Create a DataFrame with all the Standard Errors\n",
    "    s_error_new = est.bse\n",
    "    s_error_df=s_error_df.append(s_error_new, ignore_index=True)\n",
    "    \n",
    "    #Create a DataFrame with all the P-values\n",
    "    pvalues_new = est.pvalues\n",
    "    pvalues_df=pvalues_df.append(pvalues_new, ignore_index=True)\n",
    "       \n",
    "    monthvar = monthvar + 1"
   ]
  },
  {
   "cell_type": "code",
   "execution_count": null,
   "metadata": {
    "collapsed": false
   },
   "outputs": [],
   "source": [
    "arrived_toproutes['DepDelayMinutes'].describe()\n"
   ]
  },
  {
   "cell_type": "code",
   "execution_count": null,
   "metadata": {
    "collapsed": false
   },
   "outputs": [],
   "source": [
    "coeff_df"
   ]
  },
  {
   "cell_type": "code",
   "execution_count": null,
   "metadata": {
    "collapsed": false
   },
   "outputs": [],
   "source": [
    "pvalues_df"
   ]
  },
  {
   "cell_type": "code",
   "execution_count": null,
   "metadata": {
    "collapsed": false
   },
   "outputs": [],
   "source": [
    "#Combine the coefficients and pvalues for the bag1_dummy in one dataframe. \n",
    "DepDelay_results = pd.concat([coeff_df['Bag1_Dummy'], pvalues_df['Bag1_Dummy']], axis=1, ignore_index=False,)\n",
    "DepDelay_results.columns = ['Coeff', 'PValue']\n",
    "DepDelay_results "
   ]
  },
  {
   "cell_type": "code",
   "execution_count": null,
   "metadata": {
    "collapsed": true
   },
   "outputs": [],
   "source": []
  }
 ],
 "metadata": {
  "kernelspec": {
   "display_name": "Python 2",
   "language": "python",
   "name": "python2"
  },
  "language_info": {
   "codemirror_mode": {
    "name": "ipython",
    "version": 2
   },
   "file_extension": ".py",
   "mimetype": "text/x-python",
   "name": "python",
   "nbconvert_exporter": "python",
   "pygments_lexer": "ipython2",
   "version": "2.7.10"
  }
 },
 "nbformat": 4,
 "nbformat_minor": 0
}
